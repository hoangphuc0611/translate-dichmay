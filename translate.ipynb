{
  "nbformat": 4,
  "nbformat_minor": 0,
  "metadata": {
    "accelerator": "GPU",
    "colab": {
      "name": "18055891_BuiHoangPhuc_CK.ipynb",
      "provenance": [],
      "collapsed_sections": [],
      "toc_visible": true
    },
    "kernelspec": {
      "display_name": "Python 3",
      "name": "python3"
    },
    "language_info": {
      "name": "python"
    }
  },
  "cells": [
    {
      "cell_type": "markdown",
      "metadata": {
        "id": "vvO7LTlKUSDK"
      },
      "source": [
        "# Bùi Hoàng Phúc </br>\n",
        "# MSSV: 18055891"
      ]
    },
    {
      "cell_type": "code",
      "metadata": {
        "colab": {
          "base_uri": "https://localhost:8080/"
        },
        "id": "LOb8yCXPlEa_",
        "outputId": "7d646f4d-05cb-4bc8-c3b5-d7d38fe210bd"
      },
      "source": [
        "# !pip install fasttext\n",
        "!pip install unidecode\n",
        "!pip install rouge_score\n",
        "!pip install \"nltk==3.6.1\""
      ],
      "execution_count": null,
      "outputs": [
        {
          "name": "stdout",
          "output_type": "stream",
          "text": [
            "Collecting unidecode\n",
            "  Downloading Unidecode-1.3.2-py3-none-any.whl (235 kB)\n",
            "\u001b[?25l\r\u001b[K     |█▍                              | 10 kB 36.9 MB/s eta 0:00:01\r\u001b[K     |██▉                             | 20 kB 26.0 MB/s eta 0:00:01\r\u001b[K     |████▏                           | 30 kB 18.9 MB/s eta 0:00:01\r\u001b[K     |█████▋                          | 40 kB 16.4 MB/s eta 0:00:01\r\u001b[K     |███████                         | 51 kB 8.0 MB/s eta 0:00:01\r\u001b[K     |████████▍                       | 61 kB 8.0 MB/s eta 0:00:01\r\u001b[K     |█████████▊                      | 71 kB 8.3 MB/s eta 0:00:01\r\u001b[K     |███████████▏                    | 81 kB 9.3 MB/s eta 0:00:01\r\u001b[K     |████████████▌                   | 92 kB 9.8 MB/s eta 0:00:01\r\u001b[K     |██████████████                  | 102 kB 7.6 MB/s eta 0:00:01\r\u001b[K     |███████████████▎                | 112 kB 7.6 MB/s eta 0:00:01\r\u001b[K     |████████████████▊               | 122 kB 7.6 MB/s eta 0:00:01\r\u001b[K     |██████████████████              | 133 kB 7.6 MB/s eta 0:00:01\r\u001b[K     |███████████████████▌            | 143 kB 7.6 MB/s eta 0:00:01\r\u001b[K     |████████████████████▉           | 153 kB 7.6 MB/s eta 0:00:01\r\u001b[K     |██████████████████████▎         | 163 kB 7.6 MB/s eta 0:00:01\r\u001b[K     |███████████████████████▋        | 174 kB 7.6 MB/s eta 0:00:01\r\u001b[K     |█████████████████████████       | 184 kB 7.6 MB/s eta 0:00:01\r\u001b[K     |██████████████████████████▍     | 194 kB 7.6 MB/s eta 0:00:01\r\u001b[K     |███████████████████████████▉    | 204 kB 7.6 MB/s eta 0:00:01\r\u001b[K     |█████████████████████████████▏  | 215 kB 7.6 MB/s eta 0:00:01\r\u001b[K     |██████████████████████████████▋ | 225 kB 7.6 MB/s eta 0:00:01\r\u001b[K     |████████████████████████████████| 235 kB 7.6 MB/s eta 0:00:01\r\u001b[K     |████████████████████████████████| 235 kB 7.6 MB/s \n",
            "\u001b[?25hInstalling collected packages: unidecode\n",
            "Successfully installed unidecode-1.3.2\n",
            "Collecting rouge_score\n",
            "  Downloading rouge_score-0.0.4-py2.py3-none-any.whl (22 kB)\n",
            "Requirement already satisfied: numpy in /usr/local/lib/python3.7/dist-packages (from rouge_score) (1.19.5)\n",
            "Requirement already satisfied: nltk in /usr/local/lib/python3.7/dist-packages (from rouge_score) (3.2.5)\n",
            "Requirement already satisfied: absl-py in /usr/local/lib/python3.7/dist-packages (from rouge_score) (0.12.0)\n",
            "Requirement already satisfied: six>=1.14.0 in /usr/local/lib/python3.7/dist-packages (from rouge_score) (1.15.0)\n",
            "Installing collected packages: rouge-score\n",
            "Successfully installed rouge-score-0.0.4\n",
            "Collecting nltk==3.6.1\n",
            "  Downloading nltk-3.6.1-py3-none-any.whl (1.5 MB)\n",
            "\u001b[K     |████████████████████████████████| 1.5 MB 7.5 MB/s \n",
            "\u001b[?25hRequirement already satisfied: click in /usr/local/lib/python3.7/dist-packages (from nltk==3.6.1) (7.1.2)\n",
            "Requirement already satisfied: tqdm in /usr/local/lib/python3.7/dist-packages (from nltk==3.6.1) (4.62.3)\n",
            "Requirement already satisfied: joblib in /usr/local/lib/python3.7/dist-packages (from nltk==3.6.1) (1.1.0)\n",
            "Requirement already satisfied: regex in /usr/local/lib/python3.7/dist-packages (from nltk==3.6.1) (2019.12.20)\n",
            "Installing collected packages: nltk\n",
            "  Attempting uninstall: nltk\n",
            "    Found existing installation: nltk 3.2.5\n",
            "    Uninstalling nltk-3.2.5:\n",
            "      Successfully uninstalled nltk-3.2.5\n",
            "Successfully installed nltk-3.6.1\n"
          ]
        }
      ]
    },
    {
      "cell_type": "markdown",
      "metadata": {
        "id": "fSxHaBEu-U8X"
      },
      "source": [
        "### Import thư viện"
      ]
    },
    {
      "cell_type": "code",
      "metadata": {
        "id": "pgnoIdo-kCIi"
      },
      "source": [
        "# import fasttext\n",
        "import pickle\n",
        "import numpy as np\n",
        "import time\n",
        "from sklearn.model_selection import train_test_split\n",
        "import tensorflow as tf\n",
        "from tensorflow.keras.preprocessing.sequence import pad_sequences\n",
        "import pandas as pd \n",
        "import re\n",
        "from bs4 import BeautifulSoup\n",
        "from keras.preprocessing.text import Tokenizer \n",
        "from nltk.corpus import stopwords\n",
        "from tensorflow.keras.layers import Input, LSTM, Embedding, Dense, Concatenate, TimeDistributed,Attention\n",
        "from tensorflow.keras.models import Model\n",
        "from tensorflow.keras.callbacks import EarlyStopping\n",
        "import warnings\n",
        "import time\n",
        "import pickle\n",
        "warnings.filterwarnings(\"ignore\")"
      ],
      "execution_count": null,
      "outputs": []
    },
    {
      "cell_type": "code",
      "metadata": {
        "colab": {
          "base_uri": "https://localhost:8080/"
        },
        "id": "jLxT35A221le",
        "outputId": "986a9f0d-0baf-4ae5-9a8c-01b5b671eb36"
      },
      "source": [
        "%cd /content/drive/MyDrive/DichMay/data"
      ],
      "execution_count": null,
      "outputs": [
        {
          "name": "stdout",
          "output_type": "stream",
          "text": [
            "/content/drive/.shortcut-targets-by-id/1t5rcQSl1xJ3ZdrET_uynZzQ1BdnfyJbm/DichMay/data\n"
          ]
        }
      ]
    },
    {
      "cell_type": "markdown",
      "metadata": {
        "id": "7bcQK4GxzASY"
      },
      "source": [
        "## Preprocessing"
      ]
    },
    {
      "cell_type": "code",
      "metadata": {
        "id": "v5v4HTEDzC2H"
      },
      "source": [
        "def text_cleaner(text):\n",
        "    newString = text.lower()\n",
        "    newString = BeautifulSoup(newString, \"lxml\").text\n",
        "    newString = ' '.join([contraction_mapping[t] if t in contraction_mapping else t for t in newString.split(\" \")])    \n",
        "    newString = re.sub(r'\\([^)]*\\)', '', newString)\n",
        "    newString = re.sub('\"','', newString)\n",
        "    newString = re.sub(r\"'s\\b\",\"\",newString)\n",
        "    newString = re.sub(\"[^a-zA-Z]\", \" \", newString) \n",
        "    newString = re.sub('[m]{2,}', 'mm', newString)\n",
        "    tokens=newString.split()\n",
        "    return (\" \".join(tokens)).strip()\n",
        "contraction_mapping = {\"ain't\": \"is not\", \"aren't\": \"are not\",\"can't\": \"cannot\", \"'cause\": \"because\", \"could've\": \"could have\", \"couldn't\": \"could not\",\n",
        "                           \"didn't\": \"did not\",  \"doesn't\": \"does not\", \"don't\": \"do not\", \"hadn't\": \"had not\", \"hasn't\": \"has not\", \"haven't\": \"have not\",\n",
        "                           \"he'd\": \"he would\",\"he'll\": \"he will\", \"he's\": \"he is\", \"how'd\": \"how did\", \"how'd'y\": \"how do you\", \"how'll\": \"how will\", \"how's\": \"how is\",\n",
        "                           \"I'd\": \"I would\", \"I'd've\": \"I would have\", \"I'll\": \"I will\", \"I'll've\": \"I will have\",\"I'm\": \"I am\", \"I've\": \"I have\", \"i'd\": \"i would\",\n",
        "                           \"i'd've\": \"i would have\", \"i'll\": \"i will\",  \"i'll've\": \"i will have\",\"i'm\": \"i am\", \"i've\": \"i have\", \"isn't\": \"is not\", \"it'd\": \"it would\",\n",
        "                           \"it'd've\": \"it would have\", \"it'll\": \"it will\", \"it'll've\": \"it will have\",\"it's\": \"it is\", \"let's\": \"let us\", \"ma'am\": \"madam\",\n",
        "                           \"mayn't\": \"may not\", \"might've\": \"might have\",\"mightn't\": \"might not\",\"mightn't've\": \"might not have\", \"must've\": \"must have\",\n",
        "                           \"mustn't\": \"must not\", \"mustn't've\": \"must not have\", \"needn't\": \"need not\", \"needn't've\": \"need not have\",\"o'clock\": \"of the clock\",\n",
        "                           \"oughtn't\": \"ought not\", \"oughtn't've\": \"ought not have\", \"shan't\": \"shall not\", \"sha'n't\": \"shall not\", \"shan't've\": \"shall not have\",\n",
        "                           \"she'd\": \"she would\", \"she'd've\": \"she would have\", \"she'll\": \"she will\", \"she'll've\": \"she will have\", \"she's\": \"she is\",\n",
        "                           \"should've\": \"should have\", \"shouldn't\": \"should not\", \"shouldn't've\": \"should not have\", \"so've\": \"so have\",\"so's\": \"so as\",\n",
        "                           \"this's\": \"this is\",\"that'd\": \"that would\", \"that'd've\": \"that would have\", \"that's\": \"that is\", \"there'd\": \"there would\",\n",
        "                           \"there'd've\": \"there would have\", \"there's\": \"there is\", \"here's\": \"here is\",\"they'd\": \"they would\", \"they'd've\": \"they would have\",\n",
        "                           \"they'll\": \"they will\", \"they'll've\": \"they will have\", \"they're\": \"they are\", \"they've\": \"they have\", \"to've\": \"to have\",\n",
        "                           \"wasn't\": \"was not\", \"we'd\": \"we would\", \"we'd've\": \"we would have\", \"we'll\": \"we will\", \"we'll've\": \"we will have\", \"we're\": \"we are\",\n",
        "                           \"we've\": \"we have\", \"weren't\": \"were not\", \"what'll\": \"what will\", \"what'll've\": \"what will have\", \"what're\": \"what are\",\n",
        "                           \"what's\": \"what is\", \"what've\": \"what have\", \"when's\": \"when is\", \"when've\": \"when have\", \"where'd\": \"where did\", \"where's\": \"where is\",\n",
        "                           \"where've\": \"where have\", \"who'll\": \"who will\", \"who'll've\": \"who will have\", \"who's\": \"who is\", \"who've\": \"who have\",\n",
        "                           \"why's\": \"why is\", \"why've\": \"why have\", \"will've\": \"will have\", \"won't\": \"will not\", \"won't've\": \"will not have\",\n",
        "                           \"would've\": \"would have\", \"wouldn't\": \"would not\", \"wouldn't've\": \"would not have\", \"y'all\": \"you all\",\n",
        "                           \"y'all'd\": \"you all would\",\"y'all'd've\": \"you all would have\",\"y'all're\": \"you all are\",\"y'all've\": \"you all have\",\n",
        "                           \"you'd\": \"you would\", \"you'd've\": \"you would have\", \"you'll\": \"you will\", \"you'll've\": \"you will have\",\n",
        "                           \"you're\": \"you are\", \"you've\": \"you have\"}\n",
        "                        \n",
        "\n",
        "def standardize_data(row):\n",
        "    row = row.lower()\n",
        "    row = re.sub(r\"[\\,\\?]+$-\", \"\", row)\n",
        "    row = re.sub(\"(\\s)+\", r\"\\1\", row)\n",
        "    # Xóa tất cả dấu chấm, phẩy, chấm phẩy, chấm thang, ... trong câu\n",
        "    row = row.replace(\",\", \" \").replace(\".\", \" \") \\\n",
        "        .replace(\";\", \" \").replace(\"“\", \" \") \\\n",
        "        .replace(\":\", \" \").replace(\"”\", \" \") \\\n",
        "        .replace('\"', \" \").replace(\"'\", \" \") \\\n",
        "        .replace(\"!\", \" \").replace(\"=\", \" \") \\\n",
        "        .replace(\"(\", \" \").replace(\")\", \" \") \\\n",
        "        .replace(\"-\", \" \").replace(\"?\", \" \")\n",
        "    row = ''.join(i for i in row if not i.isdigit())\n",
        "    tokens=row.split()\n",
        "    return (\" \".join(tokens)).strip()\n"
      ],
      "execution_count": null,
      "outputs": []
    },
    {
      "cell_type": "code",
      "metadata": {
        "id": "MIRQdsMtzRCU"
      },
      "source": [
        "!pip install underthesea\n",
        "from underthesea import word_tokenize\n",
        "def tokenizer(row):\n",
        "    return word_tokenize(row, format=\"text\")"
      ],
      "execution_count": null,
      "outputs": []
    },
    {
      "cell_type": "markdown",
      "metadata": {
        "id": "IgEf2WpIzIBA"
      },
      "source": [
        "## Load data"
      ]
    },
    {
      "cell_type": "code",
      "metadata": {
        "id": "eA_VCnPeNqqm"
      },
      "source": [
        "data = pd.read_csv('/content/drive/MyDrive/DichMay/data_final/data.csv')"
      ],
      "execution_count": null,
      "outputs": []
    },
    {
      "cell_type": "code",
      "metadata": {
        "id": "z2-Xazs37hiX"
      },
      "source": [
        "class Language:\n",
        "  def __init__(self, data):\n",
        "    self.w2i = {'<s>':1, '</s>':2, '<pad>':0}\n",
        "    self.i2w = {1:'<s>', 2:'</s>', 0:'<pad>'}\n",
        "    self.maxlen = 0\n",
        "    self.vocab_size = 3\n",
        "    self.create(data)\n",
        "  def create(self, data):\n",
        "    for i in data:\n",
        "      s = i.split()\n",
        "      if len(s)>self.maxlen:\n",
        "        self.maxlen = len(s)\n",
        "      for j in s:\n",
        "        if j not in self.w2i.keys():\n",
        "          self.w2i[j] = self.vocab_size\n",
        "          self.i2w[self.vocab_size] = j\n",
        "          self.vocab_size+=1\n",
        "  def encode(self, text):\n",
        "    return [1]+[self.w2i[i] for i in text.split()]+[2]\n",
        "  \n",
        "  def decode(self, ids):\n",
        "    start = 0 if ids[0]!=1 else 1\n",
        "    end = ids.index(2) if 2 in ids else None\n",
        "    return ' '.join(self.i2w[i] for i in ids[start:end])"
      ],
      "execution_count": null,
      "outputs": []
    },
    {
      "cell_type": "code",
      "metadata": {
        "id": "t1pMEW_aN3jj"
      },
      "source": [
        "data.replace('', np.nan, inplace=True)\n",
        "data.dropna(axis=0,inplace=True)"
      ],
      "execution_count": null,
      "outputs": []
    },
    {
      "cell_type": "code",
      "metadata": {
        "colab": {
          "base_uri": "https://localhost:8080/",
          "height": 419
        },
        "id": "Tqd1FvGkN4yM",
        "outputId": "32151384-e1fc-4d09-f233-83ed5e9f689c"
      },
      "source": [
        "data"
      ],
      "execution_count": null,
      "outputs": [
        {
          "data": {
            "text/html": [
              "<div>\n",
              "<style scoped>\n",
              "    .dataframe tbody tr th:only-of-type {\n",
              "        vertical-align: middle;\n",
              "    }\n",
              "\n",
              "    .dataframe tbody tr th {\n",
              "        vertical-align: top;\n",
              "    }\n",
              "\n",
              "    .dataframe thead th {\n",
              "        text-align: right;\n",
              "    }\n",
              "</style>\n",
              "<table border=\"1\" class=\"dataframe\">\n",
              "  <thead>\n",
              "    <tr style=\"text-align: right;\">\n",
              "      <th></th>\n",
              "      <th>Unnamed: 0</th>\n",
              "      <th>en</th>\n",
              "      <th>vi</th>\n",
              "    </tr>\n",
              "  </thead>\n",
              "  <tbody>\n",
              "    <tr>\n",
              "      <th>0</th>\n",
              "      <td>0</td>\n",
              "      <td>i want to tell you about the magnitude of the ...</td>\n",
              "      <td>tôi muốn cho các bạn biết về sự to_lớn của nhữ...</td>\n",
              "    </tr>\n",
              "    <tr>\n",
              "      <th>1</th>\n",
              "      <td>1</td>\n",
              "      <td>there are lines that look like this when it co...</td>\n",
              "      <td>có những dòng trông như thế_này khi bàn về biế...</td>\n",
              "    </tr>\n",
              "    <tr>\n",
              "      <th>2</th>\n",
              "      <td>2</td>\n",
              "      <td>both are branches of the same field in atmosph...</td>\n",
              "      <td>cả hai đều là một nhánh của cùng một lĩnh_vực ...</td>\n",
              "    </tr>\n",
              "    <tr>\n",
              "      <th>3</th>\n",
              "      <td>3</td>\n",
              "      <td>the headlines recently looked like this when t...</td>\n",
              "      <td>các tiêu_đề gần đây trông như thế_này khi ban ...</td>\n",
              "    </tr>\n",
              "    <tr>\n",
              "      <th>4</th>\n",
              "      <td>4</td>\n",
              "      <td>the study was written by  scientists from  dif...</td>\n",
              "      <td>nghiên_cứu được viết bởi  nhà_khoa_học từ  quố...</td>\n",
              "    </tr>\n",
              "    <tr>\n",
              "      <th>...</th>\n",
              "      <td>...</td>\n",
              "      <td>...</td>\n",
              "      <td>...</td>\n",
              "    </tr>\n",
              "    <tr>\n",
              "      <th>169502</th>\n",
              "      <td>169570</td>\n",
              "      <td>b in case learners receive a degree from both ...</td>\n",
              "      <td>trường_hợp cấp văn_bằng của cả cơ_sở giáo_dục ...</td>\n",
              "    </tr>\n",
              "    <tr>\n",
              "      <th>169503</th>\n",
              "      <td>169571</td>\n",
              "      <td>article training program size</td>\n",
              "      <td>điều quy_mô đào_tạo</td>\n",
              "    </tr>\n",
              "    <tr>\n",
              "      <th>169504</th>\n",
              "      <td>169572</td>\n",
              "      <td>the number of admission slots of a joint train...</td>\n",
              "      <td>quy_mô đào_tạo của chương_trình liên_kết được ...</td>\n",
              "    </tr>\n",
              "    <tr>\n",
              "      <th>169505</th>\n",
              "      <td>169573</td>\n",
              "      <td>the vietnamese institution and the foreign ins...</td>\n",
              "      <td>cơ_sở đào_tạo việt nam và cơ_sở giáo_dục đại_h...</td>\n",
              "    </tr>\n",
              "    <tr>\n",
              "      <th>169506</th>\n",
              "      <td>169574</td>\n",
              "      <td>article training facilities equipment and loca...</td>\n",
              "      <td>điều cơ_sở_vật_chất thiết_bị địa_điểm đào_tạo</td>\n",
              "    </tr>\n",
              "  </tbody>\n",
              "</table>\n",
              "<p>169497 rows × 3 columns</p>\n",
              "</div>"
            ],
            "text/plain": [
              "        Unnamed: 0  ...                                                 vi\n",
              "0                0  ...  tôi muốn cho các bạn biết về sự to_lớn của nhữ...\n",
              "1                1  ...  có những dòng trông như thế_này khi bàn về biế...\n",
              "2                2  ...  cả hai đều là một nhánh của cùng một lĩnh_vực ...\n",
              "3                3  ...  các tiêu_đề gần đây trông như thế_này khi ban ...\n",
              "4                4  ...  nghiên_cứu được viết bởi  nhà_khoa_học từ  quố...\n",
              "...            ...  ...                                                ...\n",
              "169502      169570  ...  trường_hợp cấp văn_bằng của cả cơ_sở giáo_dục ...\n",
              "169503      169571  ...                                điều quy_mô đào_tạo\n",
              "169504      169572  ...  quy_mô đào_tạo của chương_trình liên_kết được ...\n",
              "169505      169573  ...  cơ_sở đào_tạo việt nam và cơ_sở giáo_dục đại_h...\n",
              "169506      169574  ...      điều cơ_sở_vật_chất thiết_bị địa_điểm đào_tạo\n",
              "\n",
              "[169497 rows x 3 columns]"
            ]
          },
          "execution_count": 7,
          "metadata": {},
          "output_type": "execute_result"
        }
      ]
    },
    {
      "cell_type": "code",
      "metadata": {
        "colab": {
          "base_uri": "https://localhost:8080/"
        },
        "id": "yHD3Ipd6GYFC",
        "outputId": "83fd6a0b-fed7-4707-c8cc-fef361e986fc"
      },
      "source": [
        "vocab_ipt = Language(data['en'])\n",
        "vocab_opt = Language(data['vi'])\n",
        "vocab_ipt.vocab_size, vocab_opt.vocab_size"
      ],
      "execution_count": null,
      "outputs": [
        {
          "data": {
            "text/plain": [
              "(36525, 36242)"
            ]
          },
          "execution_count": 8,
          "metadata": {},
          "output_type": "execute_result"
        }
      ]
    },
    {
      "cell_type": "code",
      "metadata": {
        "id": "VrXw_2JbGbdh"
      },
      "source": [
        "ipt_train = []\n",
        "opt_train = []\n",
        "\n",
        "for i in data['en']:\n",
        "  ipt_train.append(vocab_ipt.encode(i))\n",
        "for i in data['vi']:\n",
        "  opt_train.append(vocab_opt.encode(i))"
      ],
      "execution_count": null,
      "outputs": []
    },
    {
      "cell_type": "code",
      "metadata": {
        "colab": {
          "base_uri": "https://localhost:8080/"
        },
        "id": "SoYTW6Lb1hnk",
        "outputId": "1134e596-15ed-42ab-e971-569ff610e726"
      },
      "source": [
        "len(ipt_train),len(opt_train)"
      ],
      "execution_count": null,
      "outputs": [
        {
          "data": {
            "text/plain": [
              "(169497, 169497)"
            ]
          },
          "execution_count": 11,
          "metadata": {},
          "output_type": "execute_result"
        }
      ]
    },
    {
      "cell_type": "code",
      "metadata": {
        "colab": {
          "base_uri": "https://localhost:8080/"
        },
        "id": "b16rzX-E3IfZ",
        "outputId": "31560188-230d-4c04-f746-f6ef74bb64ed"
      },
      "source": [
        "encoder_maxlen = 100\n",
        "decoder_maxlen = 100\n",
        "encoder_maxlen,decoder_maxlen"
      ],
      "execution_count": null,
      "outputs": [
        {
          "data": {
            "text/plain": [
              "(100, 100)"
            ]
          },
          "execution_count": 12,
          "metadata": {},
          "output_type": "execute_result"
        }
      ]
    },
    {
      "cell_type": "code",
      "metadata": {
        "id": "EayxHoc11qP6"
      },
      "source": [
        "ipt_train = pad_sequences(ipt_train, maxlen=encoder_maxlen, padding='post')\n",
        "opt_train = pad_sequences(opt_train, maxlen=decoder_maxlen, padding='post')"
      ],
      "execution_count": null,
      "outputs": []
    },
    {
      "cell_type": "code",
      "metadata": {
        "id": "puEkdaot1tYZ"
      },
      "source": [
        "with open('data_train.pkl', 'wb') as f:\n",
        "  pickle.dump([ipt_train, opt_train], f)\n",
        "# with open('/content/drive/MyDrive/DichMay/data_final/data_train.pkl', 'rb') as f:\n",
        "#   ipt_train, opt_train = pickle.load(f)"
      ],
      "execution_count": null,
      "outputs": []
    },
    {
      "cell_type": "code",
      "metadata": {
        "colab": {
          "base_uri": "https://localhost:8080/"
        },
        "id": "uItlTZK010Rx",
        "outputId": "7fbad3f7-7704-4f02-89ee-efb04c36155d"
      },
      "source": [
        "ipt_train.shape, opt_train.shape"
      ],
      "execution_count": null,
      "outputs": [
        {
          "data": {
            "text/plain": [
              "((169497, 100), (169497, 100))"
            ]
          },
          "execution_count": 15,
          "metadata": {},
          "output_type": "execute_result"
        }
      ]
    },
    {
      "cell_type": "code",
      "metadata": {
        "id": "ilcOzc_vdRbL"
      },
      "source": [
        "ipt_train, test_x, opt_train, test_y = train_test_split(ipt_train, opt_train, test_size = 0.05)"
      ],
      "execution_count": null,
      "outputs": []
    },
    {
      "cell_type": "code",
      "metadata": {
        "id": "uYw9A1rW6vW8"
      },
      "source": [
        "BUFFER_SIZE = len(ipt_train)\n",
        "BATCH_SIZE = 32\n",
        "steps_per_epoch = len(ipt_train)//BATCH_SIZE\n",
        "dataset = tf.data.Dataset.from_tensor_slices((ipt_train, opt_train)).shuffle(BUFFER_SIZE)\n",
        "dataset = dataset.cache()\n",
        "dataset = dataset.batch(BATCH_SIZE, drop_remainder=True)"
      ],
      "execution_count": null,
      "outputs": []
    },
    {
      "cell_type": "code",
      "metadata": {
        "colab": {
          "base_uri": "https://localhost:8080/"
        },
        "id": "LFnkocJV2d32",
        "outputId": "e985ab7b-b5ef-4cc9-dab7-b586d2a92e62"
      },
      "source": [
        "encoder_vocab_size = vocab_ipt.vocab_size\n",
        "decoder_vocab_size = vocab_opt.vocab_size\n",
        "encoder_vocab_size,decoder_vocab_size"
      ],
      "execution_count": null,
      "outputs": [
        {
          "data": {
            "text/plain": [
              "(36525, 36242)"
            ]
          },
          "execution_count": 18,
          "metadata": {},
          "output_type": "execute_result"
        }
      ]
    },
    {
      "cell_type": "markdown",
      "metadata": {
        "id": "KjkN7IJ74zPo"
      },
      "source": [
        "## model Transformer"
      ]
    },
    {
      "cell_type": "code",
      "metadata": {
        "id": "V-72KhsX8F5H"
      },
      "source": [
        "num_layers = 4\n",
        "d_model = 128\n",
        "dff = 512\n",
        "num_heads = 8\n",
        "dropout_rate = 0.2"
      ],
      "execution_count": null,
      "outputs": []
    },
    {
      "cell_type": "code",
      "metadata": {
        "id": "izL0rUet7I-4"
      },
      "source": [
        "def get_angles(pos, i, d_model):\n",
        "  angle_rates = 1 / np.power(10000, (2 * (i//2)) / np.float32(d_model))\n",
        "  return pos * angle_rates"
      ],
      "execution_count": null,
      "outputs": []
    },
    {
      "cell_type": "code",
      "metadata": {
        "id": "KnoxZ3Cy7K2L"
      },
      "source": [
        "def positional_encoding(position, d_model):\n",
        "  angle_rads = get_angles(np.arange(position)[:, np.newaxis],\n",
        "                          np.arange(d_model)[np.newaxis, :],\n",
        "                          d_model) # shape (position, d_model)\n",
        "  \n",
        "  # apply sin to even indices in the array; 2i\n",
        "  angle_rads[:, 0::2] = np.sin(angle_rads[:, 0::2])\n",
        "  \n",
        "  # apply cos to odd indices in the array; 2i+1\n",
        "  angle_rads[:, 1::2] = np.cos(angle_rads[:, 1::2])\n",
        "    \n",
        "  pos_encoding = angle_rads[np.newaxis, ...]\n",
        "    \n",
        "  return tf.cast(pos_encoding, dtype=tf.float32) # shape: (position, d_model)"
      ],
      "execution_count": null,
      "outputs": []
    },
    {
      "cell_type": "code",
      "metadata": {
        "id": "cGrNI9t97MJG"
      },
      "source": [
        "def create_padding_mask(seq):\n",
        "  seq = tf.cast(tf.math.equal(seq, 0), tf.float32)\n",
        "  \n",
        "  # add extra dimensions to add the padding\n",
        "  # to the attention logits.\n",
        "  return seq[:, tf.newaxis, tf.newaxis, :]  # (batch_size, 1, 1, seq_len)"
      ],
      "execution_count": null,
      "outputs": []
    },
    {
      "cell_type": "code",
      "metadata": {
        "id": "-JZsuwdX7NbW"
      },
      "source": [
        "def create_look_ahead_mask(size):\n",
        "  mask = 1 - tf.linalg.band_part(tf.ones((size, size)), -1, 0)\n",
        "  return mask  # (seq_len, seq_len)"
      ],
      "execution_count": null,
      "outputs": []
    },
    {
      "cell_type": "code",
      "metadata": {
        "id": "XkXkreng7PLv"
      },
      "source": [
        "def scaled_dot_product_attention(q, k, v, mask):\n",
        "  matmul_qk = tf.matmul(q, k, transpose_b=True)  # (..., seq_len_q, seq_len_k)\n",
        "  \n",
        "  # scale matmul_qk\n",
        "  dk = tf.cast(tf.shape(k)[-1], tf.float32) # depth\n",
        "  scaled_attention_logits = matmul_qk / tf.math.sqrt(dk)\n",
        "\n",
        "  # add the mask to the scaled tensor.\n",
        "  if mask is not None:\n",
        "    scaled_attention_logits += (mask * -1e9)  \n",
        "\n",
        "  # softmax is normalized on the last axis (seq_len_k) so that the scores\n",
        "  # add up to 1.\n",
        "  attention_weights = tf.nn.softmax(scaled_attention_logits, axis=-1)  # (..., seq_len_q, seq_len_k)\n",
        "\n",
        "  output = tf.matmul(attention_weights, v)  # (..., seq_len_q, depth_v)\n",
        "\n",
        "  return output, attention_weights"
      ],
      "execution_count": null,
      "outputs": []
    },
    {
      "cell_type": "code",
      "metadata": {
        "id": "-xoqxkah7Qm-"
      },
      "source": [
        "class MultiHeadAttention(tf.keras.layers.Layer):\n",
        "  def __init__(self, d_model, num_heads):\n",
        "    super(MultiHeadAttention, self).__init__()\n",
        "    self.num_heads = num_heads\n",
        "    self.d_model = d_model\n",
        "    \n",
        "    assert d_model % self.num_heads == 0\n",
        "    \n",
        "    self.depth = d_model // self.num_heads\n",
        "    \n",
        "    self.wq = tf.keras.layers.Dense(d_model)\n",
        "    self.wk = tf.keras.layers.Dense(d_model)\n",
        "    self.wv = tf.keras.layers.Dense(d_model)\n",
        "    \n",
        "    self.dense = tf.keras.layers.Dense(d_model)\n",
        "        \n",
        "  def split_heads(self, x, batch_size):\n",
        "    \"\"\"Split the last dimension into (num_heads, depth).\n",
        "    Transpose the result such that the shape is (batch_size, num_heads, seq_len, depth)\n",
        "    \"\"\"\n",
        "    x = tf.reshape(x, (batch_size, -1, self.num_heads, self.depth))\n",
        "    return tf.transpose(x, perm=[0, 2, 1, 3])\n",
        "    \n",
        "  def call(self, v, k, q, mask):\n",
        "    batch_size = tf.shape(q)[0]\n",
        "    \n",
        "    q = self.wq(q)  # (batch_size, seq_len, d_model)\n",
        "    k = self.wk(k)  # (batch_size, seq_len, d_model)\n",
        "    v = self.wv(v)  # (batch_size, seq_len, d_model)\n",
        "    \n",
        "    q = self.split_heads(q, batch_size)  # (batch_size, num_heads, seq_len_q, depth)\n",
        "    k = self.split_heads(k, batch_size)  # (batch_size, num_heads, seq_len_k, depth)\n",
        "    v = self.split_heads(v, batch_size)  # (batch_size, num_heads, seq_len_v, depth)\n",
        "    \n",
        "    # scaled_attention.shape == (batch_size, num_heads, seq_len_q, depth)\n",
        "    # attention_weights.shape == (batch_size, num_heads, seq_len_q, seq_len_k)\n",
        "    scaled_attention, attention_weights = scaled_dot_product_attention(\n",
        "        q, k, v, mask)\n",
        "    \n",
        "    scaled_attention = tf.transpose(scaled_attention, perm=[0, 2, 1, 3])  # (batch_size, seq_len_q, num_heads, depth)\n",
        "\n",
        "    concat_attention = tf.reshape(scaled_attention, \n",
        "                                  (batch_size, -1, self.d_model))  # (batch_size, seq_len_q, d_model)\n",
        "\n",
        "    output = self.dense(concat_attention)  # (batch_size, seq_len_q, d_model)\n",
        "        \n",
        "    return output, attention_weights"
      ],
      "execution_count": null,
      "outputs": []
    },
    {
      "cell_type": "code",
      "metadata": {
        "id": "z4juGpDH7T3_"
      },
      "source": [
        "def point_wise_feed_forward_network(d_model, dff):\n",
        "  return tf.keras.Sequential([\n",
        "      tf.keras.layers.Dense(dff, activation='relu'),  # (batch_size, seq_len, dff)\n",
        "      tf.keras.layers.Dense(d_model)  # (batch_size, seq_len, d_model)\n",
        "  ])"
      ],
      "execution_count": null,
      "outputs": []
    },
    {
      "cell_type": "code",
      "metadata": {
        "id": "KAWPVWog7VZh"
      },
      "source": [
        "class EncoderLayer(tf.keras.layers.Layer):\n",
        "  def __init__(self, d_model, num_heads, dff, rate=0.1):\n",
        "    super(EncoderLayer, self).__init__()\n",
        "\n",
        "    self.mha = MultiHeadAttention(d_model, num_heads)\n",
        "    self.ffn = point_wise_feed_forward_network(d_model, dff)\n",
        "\n",
        "    self.layernorm1 = tf.keras.layers.LayerNormalization(epsilon=1e-6)\n",
        "    self.layernorm2 = tf.keras.layers.LayerNormalization(epsilon=1e-6)\n",
        "    \n",
        "    self.dropout1 = tf.keras.layers.Dropout(rate)\n",
        "    self.dropout2 = tf.keras.layers.Dropout(rate)\n",
        "    \n",
        "  def call(self, x, training, mask):\n",
        "\n",
        "    attn_output, _ = self.mha(x, x, x, mask)  # (batch_size, input_seq_len, d_model)\n",
        "    attn_output = self.dropout1(attn_output, training=training)\n",
        "    out1 = self.layernorm1(x + attn_output)  # (batch_size, input_seq_len, d_model)\n",
        "    \n",
        "    ffn_output = self.ffn(out1)  # (batch_size, input_seq_len, d_model)\n",
        "    ffn_output = self.dropout2(ffn_output, training=training)\n",
        "    out2 = self.layernorm2(out1 + ffn_output)  # (batch_size, input_seq_len, d_model)\n",
        "    \n",
        "    return out2"
      ],
      "execution_count": null,
      "outputs": []
    },
    {
      "cell_type": "code",
      "metadata": {
        "id": "MAhIYk6t7W5i"
      },
      "source": [
        "class DecoderLayer(tf.keras.layers.Layer):\n",
        "  def __init__(self, d_model, num_heads, dff, rate=0.1):\n",
        "    super(DecoderLayer, self).__init__()\n",
        "\n",
        "    self.mha1 = MultiHeadAttention(d_model, num_heads)\n",
        "    self.mha2 = MultiHeadAttention(d_model, num_heads)\n",
        "\n",
        "    self.ffn = point_wise_feed_forward_network(d_model, dff)\n",
        " \n",
        "    self.layernorm1 = tf.keras.layers.LayerNormalization(epsilon=1e-6)\n",
        "    self.layernorm2 = tf.keras.layers.LayerNormalization(epsilon=1e-6)\n",
        "    self.layernorm3 = tf.keras.layers.LayerNormalization(epsilon=1e-6)\n",
        "    \n",
        "    self.dropout1 = tf.keras.layers.Dropout(rate)\n",
        "    self.dropout2 = tf.keras.layers.Dropout(rate)\n",
        "    self.dropout3 = tf.keras.layers.Dropout(rate)\n",
        "    \n",
        "    \n",
        "  def call(self, x, enc_output, training, \n",
        "           look_ahead_mask, padding_mask):\n",
        "    # enc_output.shape == (batch_size, input_seq_len, d_model)\n",
        "\n",
        "    attn1, attn_weights_block1 = self.mha1(x, x, x, look_ahead_mask)  # (batch_size, target_seq_len, d_model)\n",
        "    attn1 = self.dropout1(attn1, training=training)\n",
        "    out1 = self.layernorm1(attn1 + x)\n",
        "    \n",
        "    attn2, attn_weights_block2 = self.mha2(\n",
        "        enc_output, enc_output, out1, padding_mask)  # (batch_size, target_seq_len, d_model)\n",
        "    attn2 = self.dropout2(attn2, training=training)\n",
        "    out2 = self.layernorm2(attn2 + out1)  # (batch_size, target_seq_len, d_model)\n",
        "    \n",
        "    ffn_output = self.ffn(out2)  # (batch_size, target_seq_len, d_model)\n",
        "    ffn_output = self.dropout3(ffn_output, training=training)\n",
        "    out3 = self.layernorm3(ffn_output + out2)  # (batch_size, target_seq_len, d_model)\n",
        "    \n",
        "    return out3, attn_weights_block1, attn_weights_block2"
      ],
      "execution_count": null,
      "outputs": []
    },
    {
      "cell_type": "code",
      "metadata": {
        "id": "KQpAGe147YdP"
      },
      "source": [
        "class Encoder(tf.keras.layers.Layer):\n",
        "  def __init__(self, num_layers, d_model, num_heads, dff, input_vocab_size,\n",
        "               maximum_position_encoding, rate=0.1):\n",
        "    super(Encoder, self).__init__()\n",
        "\n",
        "    self.d_model = d_model\n",
        "    self.num_layers = num_layers\n",
        "    \n",
        "    self.embedding = tf.keras.layers.Embedding(input_vocab_size, d_model)\n",
        "    self.pos_encoding = positional_encoding(maximum_position_encoding, \n",
        "                                            self.d_model)\n",
        "    \n",
        "    \n",
        "    self.enc_layers = [EncoderLayer(d_model, num_heads, dff, rate) \n",
        "                       for _ in range(num_layers)]\n",
        "  \n",
        "    self.dropout = tf.keras.layers.Dropout(rate)\n",
        "        \n",
        "  def call(self, x, training, mask):\n",
        "\n",
        "    seq_len = tf.shape(x)[1]\n",
        "    \n",
        "    # adding embedding and position encoding.\n",
        "    x = self.embedding(x)  # (batch_size, input_seq_len, d_model)\n",
        "    x *= tf.math.sqrt(tf.cast(self.d_model, tf.float32))\n",
        "    x += self.pos_encoding[:, :seq_len, :]\n",
        "\n",
        "    x = self.dropout(x, training=training)\n",
        "    \n",
        "    for i in range(self.num_layers):\n",
        "      x = self.enc_layers[i](x, training, mask)\n",
        "    \n",
        "    return x  # (batch_size, input_seq_len, d_model)"
      ],
      "execution_count": null,
      "outputs": []
    },
    {
      "cell_type": "code",
      "metadata": {
        "id": "QJI3gqR37aEg"
      },
      "source": [
        "class Decoder(tf.keras.layers.Layer):\n",
        "  def __init__(self, num_layers, d_model, num_heads, dff, target_vocab_size,\n",
        "               maximum_position_encoding, rate=0.1):\n",
        "    super(Decoder, self).__init__()\n",
        "\n",
        "    self.d_model = d_model\n",
        "    self.num_layers = num_layers\n",
        "    \n",
        "    self.embedding = tf.keras.layers.Embedding(target_vocab_size, d_model)\n",
        "    self.pos_encoding = positional_encoding(maximum_position_encoding, d_model)\n",
        "    \n",
        "    self.dec_layers = [DecoderLayer(d_model, num_heads, dff, rate) \n",
        "                       for _ in range(num_layers)]\n",
        "    self.dropout = tf.keras.layers.Dropout(rate)\n",
        "    \n",
        "  def call(self, x, enc_output, training, \n",
        "           look_ahead_mask, padding_mask):\n",
        "\n",
        "    seq_len = tf.shape(x)[1]\n",
        "    attention_weights = {}\n",
        "    \n",
        "    x = self.embedding(x)  # (batch_size, target_seq_len, d_model)\n",
        "    x *= tf.math.sqrt(tf.cast(self.d_model, tf.float32))\n",
        "    x += self.pos_encoding[:, :seq_len, :]\n",
        "    \n",
        "    x = self.dropout(x, training=training)\n",
        "\n",
        "    for i in range(self.num_layers):\n",
        "      x, block1, block2 = self.dec_layers[i](x, enc_output, training,\n",
        "                                             look_ahead_mask, padding_mask)\n",
        "      \n",
        "      attention_weights['decoder_layer{}_block1'.format(i+1)] = block1\n",
        "      attention_weights['decoder_layer{}_block2'.format(i+1)] = block2\n",
        "    \n",
        "    # x.shape == (batch_size, target_seq_len, d_model)\n",
        "    return x, attention_weights"
      ],
      "execution_count": null,
      "outputs": []
    },
    {
      "cell_type": "code",
      "metadata": {
        "id": "VBeJyaCT7bo1"
      },
      "source": [
        "class Transformer(tf.keras.Model):\n",
        "  def __init__(self, num_layers, d_model, num_heads, dff, input_vocab_size, \n",
        "               target_vocab_size, pe_input, pe_target, rate=0.1):\n",
        "    super(Transformer, self).__init__()\n",
        "\n",
        "    self.encoder = Encoder(num_layers, d_model, num_heads, dff, \n",
        "                           input_vocab_size, pe_input, rate)\n",
        "\n",
        "    self.decoder = Decoder(num_layers, d_model, num_heads, dff, \n",
        "                           target_vocab_size, pe_target, rate)\n",
        "\n",
        "    self.final_layer = tf.keras.layers.Dense(target_vocab_size)\n",
        "    \n",
        "  def call(self, inp, tar, training, enc_padding_mask, \n",
        "           look_ahead_mask, dec_padding_mask):\n",
        "    # print('enc_padding_mask: ', enc_padding_mask)\n",
        "    enc_output = self.encoder(inp, training, enc_padding_mask)  # (batch_size, inp_seq_len, d_model)\n",
        "    \n",
        "    # dec_output.shape == (batch_size, tar_seq_len, d_model)\n",
        "    dec_output, attention_weights = self.decoder(\n",
        "        tar, enc_output, training, look_ahead_mask, dec_padding_mask)\n",
        "    \n",
        "    final_output = self.final_layer(dec_output)  # (batch_size, tar_seq_len, target_vocab_size)\n",
        "    \n",
        "    return final_output, attention_weights"
      ],
      "execution_count": null,
      "outputs": []
    },
    {
      "cell_type": "code",
      "metadata": {
        "id": "YUdrzj_y8O7k"
      },
      "source": [
        "class CustomSchedule(tf.keras.optimizers.schedules.LearningRateSchedule):\n",
        "  def __init__(self, d_model, warmup_steps=4000):\n",
        "    super(CustomSchedule, self).__init__()\n",
        "    \n",
        "    self.d_model = d_model\n",
        "    self.d_model = tf.cast(self.d_model, tf.float32)\n",
        "\n",
        "    self.warmup_steps = warmup_steps\n",
        "    \n",
        "  def __call__(self, step):\n",
        "    arg1 = tf.math.rsqrt(step)\n",
        "    arg2 = step * (self.warmup_steps ** -1.5)\n",
        "    \n",
        "    return tf.math.rsqrt(self.d_model) * tf.math.minimum(arg1, arg2)"
      ],
      "execution_count": null,
      "outputs": []
    },
    {
      "cell_type": "code",
      "metadata": {
        "id": "tOMLc70E8WaO"
      },
      "source": [
        "learning_rate = CustomSchedule(d_model)\n",
        "\n",
        "optimizer = tf.keras.optimizers.Adam(learning_rate, beta_1=0.9, beta_2=0.98, \n",
        "                                     epsilon=1e-9)"
      ],
      "execution_count": null,
      "outputs": []
    },
    {
      "cell_type": "code",
      "metadata": {
        "id": "LDyYPF1q8YaJ"
      },
      "source": [
        "temp_learning_rate_schedule = CustomSchedule(d_model)"
      ],
      "execution_count": null,
      "outputs": []
    },
    {
      "cell_type": "code",
      "metadata": {
        "id": "LFzl3RoJ8ang"
      },
      "source": [
        "loss_object = tf.keras.losses.SparseCategoricalCrossentropy(\n",
        "    from_logits=True, reduction='none')"
      ],
      "execution_count": null,
      "outputs": []
    },
    {
      "cell_type": "code",
      "metadata": {
        "id": "W0WfAOyT8ckA"
      },
      "source": [
        "def loss_function(real, pred):\n",
        "  mask = tf.math.logical_not(tf.math.equal(real, 0))\n",
        "  loss_ = loss_object(real, pred)\n",
        "  mask = tf.cast(mask, dtype=loss_.dtype)\n",
        "  loss_ *= mask\n",
        "  return tf.reduce_sum(loss_)/tf.reduce_sum(mask)\n"
      ],
      "execution_count": null,
      "outputs": []
    },
    {
      "cell_type": "code",
      "metadata": {
        "id": "R5JSYLmh8d1j"
      },
      "source": [
        "train_loss = tf.keras.metrics.Mean(name='train_loss')\n",
        "train_accuracy = tf.keras.metrics.SparseCategoricalAccuracy(\n",
        "    name='train_accuracy')"
      ],
      "execution_count": null,
      "outputs": []
    },
    {
      "cell_type": "code",
      "metadata": {
        "id": "wESPYYbI8hYb"
      },
      "source": [
        "transformer = Transformer(num_layers=num_layers, d_model=d_model, num_heads=num_heads, dff=dff,\n",
        "                          input_vocab_size=encoder_vocab_size, target_vocab_size=decoder_vocab_size, \n",
        "                          pe_input=encoder_vocab_size, \n",
        "                          pe_target=decoder_vocab_size,\n",
        "                          rate=dropout_rate)"
      ],
      "execution_count": null,
      "outputs": []
    },
    {
      "cell_type": "code",
      "metadata": {
        "id": "xyVYg3LD8uOH"
      },
      "source": [
        "def create_masks(inp, tar):\n",
        "  # Encoder padding mask\n",
        "  enc_padding_mask = create_padding_mask(inp)\n",
        "\n",
        "  dec_padding_mask = create_padding_mask(inp)\n",
        "\n",
        "  look_ahead_mask = create_look_ahead_mask(tf.shape(tar)[1])\n",
        "  dec_target_padding_mask = create_padding_mask(tar)\n",
        "  combined_mask = tf.maximum(dec_target_padding_mask, look_ahead_mask)\n",
        "  return enc_padding_mask, combined_mask, dec_padding_mask"
      ],
      "execution_count": null,
      "outputs": []
    },
    {
      "cell_type": "code",
      "metadata": {
        "id": "yXwgGLfh85VW"
      },
      "source": [
        "checkpoint_path = \"/content/drive/MyDrive/DichMay/checkpoints3\"\n",
        "\n",
        "ckpt = tf.train.Checkpoint(transformer=transformer,\n",
        "                           optimizer=optimizer)\n",
        "\n",
        "ckpt_manager = tf.train.CheckpointManager(ckpt, checkpoint_path, max_to_keep=5)\n",
        "\n",
        "# if a checkpoint exists, restore the latest checkpoint.\n",
        "if ckpt_manager.latest_checkpoint:\n",
        "  ckpt.restore(ckpt_manager.latest_checkpoint)\n",
        "  print ('Latest checkpoint restored!!')"
      ],
      "execution_count": null,
      "outputs": []
    },
    {
      "cell_type": "code",
      "metadata": {
        "id": "Pnh85BDXNiwF"
      },
      "source": [
        "def predict(sent):\n",
        "  encoder_input = pad_sequences([sent], maxlen=encoder_maxlen, padding='post')\n",
        "  output = tf.convert_to_tensor([1], dtype=tf.int64)\n",
        "  output = tf.expand_dims(output, 0)\n",
        "  for i in range(100):\n",
        "    enc_padding_mask, combined_mask, dec_padding_mask = create_masks(\n",
        "        encoder_input, output)\n",
        "    predictions, _ = transformer(encoder_input,\n",
        "                                output,\n",
        "                                False,\n",
        "                                enc_padding_mask,\n",
        "                                combined_mask,\n",
        "                                dec_padding_mask)\n",
        "    predictions = predictions[:, -1:, :]\n",
        "    predicted_id = tf.argmax(predictions, axis=-1)\n",
        "    output = tf.concat([output, predicted_id], axis=-1)\n",
        "    if predicted_id == 2:\n",
        "      break\n",
        "  return output"
      ],
      "execution_count": null,
      "outputs": []
    },
    {
      "cell_type": "code",
      "metadata": {
        "colab": {
          "base_uri": "https://localhost:8080/"
        },
        "id": "2T5MTa8sU_mM",
        "outputId": "32db3535-1c69-401a-eb0e-6a507eb83d1f"
      },
      "source": [
        "from nltk.translate.bleu_score import corpus_bleu, sentence_bleu\n",
        "from nltk.translate.meteor_score import meteor_score\n",
        "from rouge_score import rouge_scorer\n",
        "import random\n",
        "import nltk\n",
        "nltk.download('wordnet')\n",
        "scorer = rouge_scorer.RougeScorer(['rouge1', 'rougeL'], use_stemmer=True)\n",
        "\n",
        "\n",
        "def score(sample):\n",
        "  \"\"\"\n",
        "  hàm tính điểm  cho mô hình\n",
        "  \"\"\"\n",
        "  references = []\n",
        "  candidate = []\n",
        "  all_score= []\n",
        "  scores1 = []\n",
        "  scoresL = []\n",
        "  score_bleu = []\n",
        "  n = sample\n",
        "  d_score = {'Rouge1': [],'RougeL':[]}\n",
        "  for _ in range(sample):\n",
        "\n",
        "    i  =  random.randrange(0, len(test_x))\n",
        "    try:\n",
        "      pred = predict(test_x[i])\n",
        "    except:\n",
        "      sample+=1\n",
        "      continue\n",
        "    pred = vocab_opt.decode([j for j in pred.numpy()[0]])\n",
        "    label= vocab_opt.decode([j for j in test_y[i]])\n",
        "\n",
        "    \n",
        "    #Rouge score\n",
        "    score = scorer.score(pred,label)\n",
        "    scores1.append(score['rouge1'][0])\n",
        "    scoresL.append(score['rougeL'][0])\n",
        "\n",
        "    #Meteor score\n",
        "    all_score.append(meteor_score([label],pred))\n",
        "\n",
        "    candidate = pred.split()\n",
        "    references = [label.split()]\n",
        "    score_bleu.append(sentence_bleu(references, candidate,weights=(0.25, 0.25)))\n",
        "    #Bleu score\n",
        "    \n",
        "  scores1 = np.mean(scores1)\n",
        "  scoresL = np.mean(scoresL)\n",
        "  score_bleu = np.mean(score_bleu)\n",
        "  \n",
        "  score_meteor = sum(all_score)/n\n",
        "  \n",
        "  return score_bleu,score_meteor,scores1,scoresL"
      ],
      "execution_count": null,
      "outputs": [
        {
          "name": "stderr",
          "output_type": "stream",
          "text": [
            "[nltk_data] Downloading package wordnet to /root/nltk_data...\n",
            "[nltk_data]   Package wordnet is already up-to-date!\n"
          ]
        }
      ]
    },
    {
      "cell_type": "code",
      "metadata": {
        "id": "UGf-2cX_9BHW"
      },
      "source": [
        "@tf.function\n",
        "def train_step(inp, tar):\n",
        "  tar_inp = tar[:, :-1]\n",
        "  tar_real = tar[:, 1:]\n",
        "  enc_padding_mask, combined_mask, dec_padding_mask = create_masks(inp, tar_inp)\n",
        "  with tf.GradientTape() as tape:\n",
        "    predictions, _ = transformer(inp, tar_inp, \n",
        "                                 True, \n",
        "                                 enc_padding_mask, \n",
        "                                 combined_mask, \n",
        "                                 dec_padding_mask)\n",
        "    \n",
        "    loss = loss_function(tar_real, predictions)\n",
        "\n",
        "  gradients = tape.gradient(loss, transformer.trainable_variables)    \n",
        "  optimizer.apply_gradients(zip(gradients, transformer.trainable_variables))\n",
        "  \n",
        "  train_loss(loss)\n",
        "  train_accuracy(tar_real, predictions)"
      ],
      "execution_count": null,
      "outputs": []
    },
    {
      "cell_type": "code",
      "metadata": {
        "colab": {
          "background_save": true,
          "base_uri": "https://localhost:8080/"
        },
        "id": "mlvmtCHw9GXB",
        "outputId": "d17980ea-7a24-4dce-c830-b3f27bec025f"
      },
      "source": [
        "epochs = 10\n",
        "losses = []\n",
        "acc = []\n",
        "for epoch in range(epochs):\n",
        "  start = time.time()\n",
        "  train_loss.reset_states()\n",
        "  train_accuracy.reset_states()\n",
        "  for (batch, (inp, tar)) in enumerate(dataset.take(steps_per_epoch)):\n",
        "    train_step(inp, tar)\n",
        "    if batch % 3000 == 0:\n",
        "      losses.append(train_loss.result().numpy())\n",
        "      bleu, meteor, rouge1, rouge2 = score(20)\n",
        "      acc.append([bleu, meteor, rouge1, rouge2])\n",
        "      with open('/content/drive/MyDrive/DichMay/data/score1.pkl', 'wb') as f:\n",
        "        pickle.dump([acc, losses], f)\n",
        "      print ('Epoch {} Batch {} Loss {:.4f} Bleu {:.3f} Meteor {:.3f} Rouge1 {:.3f} Rouge2 {:.3f}'.format(\n",
        "          epoch + 1, batch, train_loss.result(), bleu, meteor, rouge1, rouge2))\n",
        "      \n",
        "  if (epoch + 1) % 2 == 0:\n",
        "    ckpt_save_path = ckpt_manager.save()\n",
        "    print ('Saving checkpoint for epoch {} at {}'.format(epoch+1,\n",
        "                                                         ckpt_save_path))\n",
        "\n",
        "  print ('Time taken for 1 epoch: {} secs\\n'.format(time.time() - start))"
      ],
      "execution_count": null,
      "outputs": [
        {
          "name": "stdout",
          "output_type": "stream",
          "text": [
            "Epoch 1 Batch 0 Loss 10.3841 Bleu 0.000 Meteor 0.000 Rouge1 0.054 Rouge2 0.049\n",
            "Epoch 1 Batch 3000 Loss 5.9996 Bleu 0.038 Meteor 0.078 Rouge1 0.388 Rouge2 0.295\n",
            "Time taken for 1 epoch: 5633.724128246307 secs\n",
            "\n",
            "Epoch 2 Batch 0 Loss 5.2485 Bleu 0.123 Meteor 0.126 Rouge1 0.442 Rouge2 0.331\n",
            "Epoch 2 Batch 3000 Loss 5.1894 Bleu 0.118 Meteor 0.125 Rouge1 0.440 Rouge2 0.318\n",
            "Saving checkpoint for epoch 2 at /content/drive/MyDrive/DichMay/checkpoints3/ckpt-1\n",
            "Time taken for 1 epoch: 5662.912712335587 secs\n",
            "\n",
            "Epoch 3 Batch 0 Loss 4.9614 Bleu 0.203 Meteor 0.169 Rouge1 0.497 Rouge2 0.374\n",
            "Epoch 3 Batch 3000 Loss 4.8024 Bleu 0.164 Meteor 0.154 Rouge1 0.449 Rouge2 0.321\n",
            "Time taken for 1 epoch: 5607.301152467728 secs\n",
            "\n",
            "Epoch 4 Batch 0 Loss 4.2700 Bleu 0.196 Meteor 0.161 Rouge1 0.526 Rouge2 0.379\n",
            "Epoch 4 Batch 3000 Loss 4.3306 Bleu 0.404 Meteor 0.334 Rouge1 0.580 Rouge2 0.487\n",
            "Saving checkpoint for epoch 4 at /content/drive/MyDrive/DichMay/checkpoints3/ckpt-2\n",
            "Time taken for 1 epoch: 5587.971400022507 secs\n",
            "\n",
            "Epoch 5 Batch 0 Loss 3.8297 Bleu 0.406 Meteor 0.355 Rouge1 0.596 Rouge2 0.496\n"
          ]
        }
      ]
    },
    {
      "cell_type": "markdown",
      "metadata": {
        "id": "ez9wBMfuWz9V"
      },
      "source": [
        "### Đánh giá mô hình Transformer"
      ]
    },
    {
      "cell_type": "code",
      "metadata": {
        "id": "xpGBVsgLMT2V"
      },
      "source": [
        "with open('/content/drive/MyDrive/DichMay/data/score1.pkl', 'rb') as f:\n",
        "      acc, losses =   pickle.load(f)"
      ],
      "execution_count": null,
      "outputs": []
    },
    {
      "cell_type": "code",
      "metadata": {
        "id": "BstLLxmFYtwv"
      },
      "source": [
        "bleu = []\n",
        "metor =[]\n",
        "rouge1=[]\n",
        "rougeL=[]\n",
        "for i in range(0,20,2):\n",
        "  bleu.append(np.mean(np.array(acc)[i:i+2, 0]))\n",
        "  metor.append(np.mean(np.array(acc)[i:i+2, 1]))\n",
        "  rouge1.append(np.mean(np.array(acc)[i:i+2, 2]))\n",
        "  rougeL.append(np.mean(np.array(acc)[i:i+2, 3]))"
      ],
      "execution_count": null,
      "outputs": []
    },
    {
      "cell_type": "code",
      "metadata": {
        "colab": {
          "base_uri": "https://localhost:8080/",
          "height": 265
        },
        "id": "BYCeCYJ7Y0UQ",
        "outputId": "21a4871b-8fce-46c0-d8e3-7f981d544743"
      },
      "source": [
        "import matplotlib.pyplot as plt\n",
        "\n",
        "plt.plot(bleu, color='r')\n",
        "plt.plot(metor, color = 'b')\n",
        "plt.plot(rouge1, color = 'g')\n",
        "plt.plot(rougeL, color = 'black')\n",
        "plt.legend(['bleu', 'metor', 'rouge1', 'rougeL'])\n",
        "plt.show()"
      ],
      "execution_count": null,
      "outputs": [
        {
          "data": {
            "image/png": "[encoded data removed]",
            "text/plain": [
              "<Figure size 432x288 with 1 Axes>"
            ]
          },
          "metadata": {},
          "output_type": "display_data"
        }
      ]
    },
    {
      "cell_type": "code",
      "metadata": {
        "colab": {
          "base_uri": "https://localhost:8080/",
          "height": 265
        },
        "id": "-K_aKGUbY7RL",
        "outputId": "17a5cb1f-9e65-41cd-e57b-862a4ffda2d5"
      },
      "source": [
        "plt.plot(losses)\n",
        "plt.show()"
      ],
      "execution_count": null,
      "outputs": [
        {
          "data": {
            "image/png": "[encoded data removed]",
            "text/plain": [
              "<Figure size 432x288 with 1 Axes>"
            ]
          },
          "metadata": {},
          "output_type": "display_data"
        }
      ]
    },
    {
      "cell_type": "markdown",
      "metadata": {
        "id": "bVfOFI8bXCHA"
      },
      "source": [
        "### Test với dữ liệu ngoài"
      ]
    },
    {
      "cell_type": "code",
      "metadata": {
        "id": "UjlsyXYeKPN2"
      },
      "source": [
        "def predict(text):\n",
        "      encode = [vocab_ipt.encode(text)]\n",
        "      encoder_input = pad_sequences(encode, maxlen=encoder_maxlen, padding='post')\n",
        "      \n",
        "      output = tf.convert_to_tensor([1], dtype=tf.int64)\n",
        "      output = tf.expand_dims(output, 0)\n",
        "      for i in range(1000):\n",
        "        enc_padding_mask, combined_mask, dec_padding_mask = create_masks(\n",
        "            encoder_input, output)\n",
        "        predictions, _ = transformer(encoder_input,\n",
        "                                    output,\n",
        "                                    False,\n",
        "                                    enc_padding_mask,\n",
        "                                    combined_mask,\n",
        "                                    dec_padding_mask)\n",
        "        predictions = predictions[:, -1:, :]\n",
        "        predicted_id = tf.cast(tf.argmax(predictions, axis=-1), tf.int64)\n",
        "        output = tf.concat([output, predicted_id], axis=-1)\n",
        "        if predicted_id == 2:\n",
        "            return vocab_opt.decode([i for i in output.numpy()[0]]).replace('_',' ')\n",
        "      return vocab_opt.decode([i for i in output.numpy()[0]]).replace('_',' ')\n",
        "    "
      ],
      "execution_count": null,
      "outputs": []
    },
    {
      "cell_type": "code",
      "metadata": {
        "id": "8AmeOHjP6FG6"
      },
      "source": [
        "def text_cleaner(text):\n",
        "    newString = text.lower()\n",
        "    newString = re.sub(r'\\([^)]*\\)', '', newString)\n",
        "    newString = re.sub('\"','', newString)\n",
        "    newString = re.sub(r\"'s\\b\",\"\",newString)\n",
        "    newString = re.sub(\"[^a-zA-Z|^,|^0-9|^'s]\", \" \", newString) \n",
        "    newString = newString.replace(', ',' , ')\n",
        "    newString = re.sub('[m]{2,}', 'mm', newString)\n",
        "    tokens=newString.split()\n",
        "    return (\" \".join(tokens)).strip()"
      ],
      "execution_count": null,
      "outputs": []
    },
    {
      "cell_type": "code",
      "metadata": {
        "id": "Dj7lBvaTLOGw"
      },
      "source": [
        "def evaluate(text):\n",
        "    text = text_cleaner(text)\n",
        "    results = ''\n",
        "    index = 0\n",
        "    for x in text.split():\n",
        "        \n",
        "        if x not in vocab_ipt.w2i.keys() and x!=',':\n",
        "          child = []\n",
        "          for y in text[index:text.index(x,index)].split(' , '):\n",
        "            child.append(predict(y))\n",
        "          results+=', '.join(child)+' ' + x + ' '\n",
        "\n",
        "          index =text.index(x,index) + len(x) \n",
        "        elif x in vocab_ipt.w2i.keys() and x==text.split()[-1]:\n",
        "          \n",
        "          child = []\n",
        "          for y in text[index:].split(' , '):\n",
        "            child.append(predict(y))\n",
        "          results+=', '.join(child)\n",
        "    return re.sub('\\s+', ' ', results)\n"
      ],
      "execution_count": null,
      "outputs": []
    },
    {
      "cell_type": "code",
      "metadata": {
        "colab": {
          "base_uri": "https://localhost:8080/",
          "height": 52
        },
        "id": "kFSpoC7nTmhg",
        "outputId": "6eda2f6e-a95b-423b-def9-62c96fd7b222"
      },
      "source": [
        "evaluate('Both of my physical and  mental health become better after I play sports, so it can be considered as the best things to do in my free time.')"
      ],
      "execution_count": null,
      "outputs": [
        {
          "data": {
            "application/vnd.google.colaboratory.intrinsic+json": {
              "type": "string"
            },
            "text/plain": [
              "'cả hai người trong vật lý và y tế tinh thần của tôi trở nên tốt hơn sau khi tôi chơi thể thao, vì vậy nó có thể được xem như những thứ tốt nhất để làm trong thời gian miễn phí của tôi'"
            ]
          },
          "execution_count": 103,
          "metadata": {},
          "output_type": "execute_result"
        }
      ]
    },
    {
      "cell_type": "code",
      "metadata": {
        "colab": {
          "base_uri": "https://localhost:8080/",
          "height": 35
        },
        "id": "a_fyKV2Y10tT",
        "outputId": "858ebca8-06e8-416f-eb65-3d66ebe6049c"
      },
      "source": [
        "evaluate('hello my name is phuc, do you need me help something zzzz')"
      ],
      "execution_count": null,
      "outputs": [
        {
          "data": {
            "application/vnd.google.colaboratory.intrinsic+json": {
              "type": "string"
            },
            "text/plain": [
              "'xin chào tên tôi là phuc , bạn có cần tôi giúp đỡ một thứ gì đó là sự thời trang không'"
            ]
          },
          "execution_count": 104,
          "metadata": {},
          "output_type": "execute_result"
        }
      ]
    },
    {
      "cell_type": "code",
      "metadata": {
        "colab": {
          "base_uri": "https://localhost:8080/",
          "height": 52
        },
        "id": "YM0dAXKCVg0o",
        "outputId": "11d480f9-dac2-49a7-d791-187465ded32c"
      },
      "source": [
        "evaluate('''This package is a great option if you’re looking for a complete annual physical exam \\\n",
        "        that can get a clearer picture of your health because it is specifically designed for the \\ \n",
        "        needs of young adults, adult men, or adult women.''')"
      ],
      "execution_count": null,
      "outputs": [
        {
          "data": {
            "application/vnd.google.colaboratory.intrinsic+json": {
              "type": "string"
            },
            "text/plain": [
              "'gói này là một lựa chọn tuyệt vời nếu bạn nhìn lại một cuộc thi toán học hoàn toàn có thể nhận được một bức tranh rõ ràng hơn về sức khoẻ của bạn bởi vì nó là một nhu cầu thiết kế cho những người trưởng thành, đàn ông người lớn, hay người lớn'"
            ]
          },
          "execution_count": 105,
          "metadata": {},
          "output_type": "execute_result"
        }
      ]
    },
    {
      "cell_type": "code",
      "metadata": {
        "colab": {
          "base_uri": "https://localhost:8080/",
          "height": 35
        },
        "id": "QXT6H4YKV6RO",
        "outputId": "2102932f-74c6-4d2f-8dcf-5bee1d6420ea"
      },
      "source": [
        "evaluate('Till their higher school students used to study in various fields')"
      ],
      "execution_count": null,
      "outputs": [
        {
          "data": {
            "application/vnd.google.colaboratory.intrinsic+json": {
              "type": "string"
            },
            "text/plain": [
              "'sự giám sát của họ càng cao học sinh của họ đã từng nghiên cứu trong các lĩnh vực khác nhau'"
            ]
          },
          "execution_count": 107,
          "metadata": {},
          "output_type": "execute_result"
        }
      ]
    },
    {
      "cell_type": "markdown",
      "metadata": {
        "id": "_PMFrWBMQVYW"
      },
      "source": [
        "## model Sequence to Sequence with Attention"
      ]
    },
    {
      "cell_type": "code",
      "metadata": {
        "id": "TCT-mead74jI"
      },
      "source": [
        "ENC_EMB_DIM = 128\n",
        "DEC_EMB_DIM = 128\n",
        "ENC_HID_DIM = 256\n",
        "DEC_HID_DIM = 256"
      ],
      "execution_count": null,
      "outputs": []
    },
    {
      "cell_type": "code",
      "metadata": {
        "id": "HBd1oNQU2HDE"
      },
      "source": [
        "class Encoder(tf.keras.Model):\n",
        "  def __init__(self, vocab_size, embedding_dim, enc_units, batch_sz):\n",
        "    super(Encoder, self).__init__()\n",
        "    self.batch_sz = batch_sz\n",
        "    self.enc_units = enc_units\n",
        "    self.embedding = tf.keras.layers.Embedding(vocab_size, embedding_dim)\n",
        "    self.gru = tf.keras.layers.GRU(self.enc_units,return_sequences=True,return_state=True,recurrent_initializer='glorot_uniform')\n",
        "  \n",
        "  def call(self, x, hidden):\n",
        "    x = self.embedding(x)\n",
        "    output, state = self.gru(x, initial_state = hidden)\n",
        "    return output, state\n",
        "  # khởi tạo first state để  trả về last state\n",
        "  \n",
        "  def initialize_hidden_state(self):\n",
        "    return tf.zeros((self.batch_sz, self.enc_units)) "
      ],
      "execution_count": null,
      "outputs": []
    },
    {
      "cell_type": "code",
      "metadata": {
        "id": "X7nlxD8V2ecG"
      },
      "source": [
        "class BahdanauAttention(tf.keras.layers.Layer):\n",
        "  def __init__(self, units):\n",
        "    super(BahdanauAttention, self).__init__()\n",
        "    self.W1 = tf.keras.layers.Dense(units)\n",
        "    self.W2 = tf.keras.layers.Dense(units)\n",
        "    self.V = tf.keras.layers.Dense(1)\n",
        "\n",
        "  def call(self, query, values):\n",
        "    query_with_time_axis = tf.expand_dims(query, 1)\n",
        "\n",
        "    score = self.V(tf.nn.tanh(\n",
        "        self.W1(query_with_time_axis) + self.W2(values)))\n",
        "\n",
        "    # attention_weights shape == (batch_size, max_length, 1)\n",
        "    attention_weights = tf.nn.softmax(score, axis=1)\n",
        "\n",
        "    # context_vector shape after sum == (batch_size, hidden_size)\n",
        "    context_vector = attention_weights * values\n",
        "    context_vector = tf.reduce_sum(context_vector, axis=1)\n",
        "\n",
        "    return context_vector, attention_weights"
      ],
      "execution_count": null,
      "outputs": []
    },
    {
      "cell_type": "code",
      "metadata": {
        "id": "-yYiq3LX2kCY"
      },
      "source": [
        "class Decoder(tf.keras.Model):\n",
        "  def __init__(self, vocab_size, embedding_dim, dec_units, batch_sz):\n",
        "    super(Decoder, self).__init__()\n",
        "    self.batch_sz = batch_sz\n",
        "    self.dec_units = dec_units\n",
        "    self.embedding = tf.keras.layers.Embedding(vocab_size, embedding_dim)\n",
        "    self.gru = tf.keras.layers.GRU(self.dec_units,\n",
        "                                   return_sequences=True,\n",
        "                                   return_state=True,\n",
        "                                   recurrent_initializer='glorot_uniform')\n",
        "    self.fc = tf.keras.layers.Dense(vocab_size)\n",
        "\n",
        "    # used for attention\n",
        "    self.attention = BahdanauAttention(self.dec_units)\n",
        "\n",
        "  def call(self, x, hidden, enc_output):\n",
        "    # enc_output shape == (batch_size, max_length, hidden_size)\n",
        "    context_vector, attention_weights = self.attention(hidden, enc_output)\n",
        "\n",
        "    # x shape after passing through embedding == (batch_size, 1, embedding_dim)\n",
        "    x = self.embedding(x)\n",
        "\n",
        "    # x shape after concatenation == (batch_size, 1, embedding_dim + hidden_size)\n",
        "    x = tf.concat([tf.expand_dims(context_vector, 1), x], axis=-1)\n",
        "\n",
        "    output, state = self.gru(x)\n",
        "\n",
        "    # output shape == (batch_size * 1, hidden_size)\n",
        "    output = tf.reshape(output, (-1, output.shape[2]))\n",
        "\n",
        "    # output shape == (batch_size, vocab)\n",
        "    x = self.fc(output)\n",
        "\n",
        "    # trả về last state của decode cho lần train từ kế tiếp \n",
        "    return x, state, attention_weights"
      ],
      "execution_count": null,
      "outputs": []
    },
    {
      "cell_type": "code",
      "metadata": {
        "id": "Wvpq_I1L3OIG"
      },
      "source": [
        "encoder = Encoder(encoder_vocab_size, ENC_EMB_DIM, ENC_HID_DIM, BATCH_SIZE)\n",
        "decoder = Decoder(decoder_vocab_size, DEC_EMB_DIM, DEC_HID_DIM, BATCH_SIZE)"
      ],
      "execution_count": null,
      "outputs": []
    },
    {
      "cell_type": "code",
      "metadata": {
        "id": "TtTvSjI62q8g"
      },
      "source": [
        "optimizer = tf.keras.optimizers.Adam()\n",
        "loss_object = tf.keras.losses.SparseCategoricalCrossentropy(\n",
        "    from_logits=True, reduction='none')\n",
        "def loss_function(real, pred):\n",
        "    mask = tf.math.logical_not(tf.math.equal(real, 0))\n",
        "    loss_ = loss_object(real, pred)\n",
        "    mask = tf.cast(mask, dtype=loss_.dtype)\n",
        "    loss_ *= mask\n",
        "    return tf.reduce_mean(loss_)"
      ],
      "execution_count": null,
      "outputs": []
    },
    {
      "cell_type": "code",
      "metadata": {
        "id": "VrCWMSqgFkUq"
      },
      "source": [
        "def predict(input_document):\n",
        "    \n",
        "    # input_document = tokenizer_en.texts_to_sequences([input_document])\n",
        "    input_document = pad_sequences([input_document], maxlen=encoder_maxlen, padding='post', truncating='post')\n",
        "    input_document = tf.convert_to_tensor(input_document)\n",
        "\n",
        "    result = []\n",
        "\n",
        "    hidden = [tf.zeros((1, ENC_HID_DIM))]\n",
        "    enc_out, enc_hidden = encoder(input_document, hidden)\n",
        "\n",
        "    dec_hidden = enc_hidden\n",
        "    dec_input = tf.expand_dims([1], 0)\n",
        "\n",
        "\n",
        "    \n",
        "    for i in range(decoder_maxlen):\n",
        "        predictions, dec_hidden, attention_weights = decoder(dec_input,\n",
        "                                                          dec_hidden,\n",
        "                                                          enc_out)\n",
        "\n",
        "        # storing the attention weights to plot later on\n",
        "        attention_weights = tf.reshape(attention_weights, (-1, ))\n",
        "        predicted_id = tf.argmax(predictions[0]).numpy()\n",
        "        result.append(predicted_id)\n",
        "        if predicted_id == 2:\n",
        "            return vocab_opt.decode([i for i in result])\n",
        "\n",
        "        dec_input = tf.expand_dims([predicted_id], 0)\n",
        "    return  vocab_opt.decode([i for i in result])"
      ],
      "execution_count": null,
      "outputs": []
    },
    {
      "cell_type": "code",
      "metadata": {
        "colab": {
          "base_uri": "https://localhost:8080/"
        },
        "id": "shkVC478FeMK",
        "outputId": "adf92ebb-e641-4201-9d25-0e237fe71c97"
      },
      "source": [
        "from nltk.translate.bleu_score import corpus_bleu, sentence_bleu\n",
        "from nltk.translate.meteor_score import meteor_score\n",
        "from rouge_score import rouge_scorer\n",
        "import random\n",
        "import nltk\n",
        "nltk.download('wordnet')\n",
        "scorer = rouge_scorer.RougeScorer(['rouge1', 'rougeL'], use_stemmer=True)\n",
        "\n",
        "\n",
        "def score(sample):\n",
        "  \"\"\"\n",
        "  hàm tính điểm  cho mô hình\n",
        "  \"\"\"\n",
        "  references = []\n",
        "  candidate = []\n",
        "  all_score= []\n",
        "  scores1 = []\n",
        "  scoresL = []\n",
        "  score_bleu = []\n",
        "  n = sample\n",
        "  d_score = {'Rouge1': [],'RougeL':[]}\n",
        "  for _ in range(sample):\n",
        "\n",
        "    i  =  random.randrange(0, len(test_x))\n",
        "    try:\n",
        "      pred = predict(test_x[i])\n",
        "    except:\n",
        "      sample+=1\n",
        "      continue\n",
        "    label= vocab_opt.decode([j for j in test_y[i]])\n",
        "    \n",
        "    #Rouge score\n",
        "    score = scorer.score(pred,label)\n",
        "    scores1.append(score['rouge1'][0])\n",
        "    scoresL.append(score['rougeL'][0])\n",
        "\n",
        "    #Meteor score\n",
        "    all_score.append(meteor_score([label],pred))\n",
        "\n",
        "    candidate = pred.split()\n",
        "    references = [label.split()]\n",
        "    score_bleu.append(sentence_bleu(references, candidate,weights=(0.25, 0.25)))\n",
        "    #Bleu score\n",
        "    \n",
        "  scores1 = np.mean(scores1)\n",
        "  scoresL = np.mean(scoresL)\n",
        "  score_bleu = np.mean(score_bleu)\n",
        "  \n",
        "  score_meteor = sum(all_score)/n\n",
        "  \n",
        "  return score_bleu,score_meteor,scores1,scoresL"
      ],
      "execution_count": null,
      "outputs": [
        {
          "name": "stdout",
          "output_type": "stream",
          "text": [
            "[nltk_data] Downloading package wordnet to /root/nltk_data...\n",
            "[nltk_data]   Package wordnet is already up-to-date!\n"
          ]
        }
      ]
    },
    {
      "cell_type": "code",
      "metadata": {
        "id": "Z9LEf2sk2u33"
      },
      "source": [
        "@tf.function\n",
        "def train_step(inp, targ, enc_hidden):\n",
        "  loss = 0\n",
        "\n",
        "  with tf.GradientTape() as tape:\n",
        "    enc_output, enc_hidden = encoder(inp, enc_hidden)\n",
        "\n",
        "    dec_hidden = enc_hidden\n",
        "\n",
        "    # bắt đầu từ ký tự start\n",
        "    dec_input = tf.expand_dims([1] * BATCH_SIZE, 1)\n",
        "    # Teacher forcing - feeding the target as the next input\n",
        "    for t in range(1, targ.shape[1]):\n",
        "      # passing enc_output to the decoder\n",
        "      # decode hidden == state decode\n",
        "      predictions, dec_hidden, _ = decoder(dec_input, dec_hidden, enc_output)\n",
        "\n",
        "      loss += loss_function(targ[:, t], predictions)\n",
        "\n",
        "      # duyệt qua từ kế tiếp\n",
        "      dec_input = tf.expand_dims(targ[:, t], 1)\n",
        "\n",
        "  batch_loss = (loss / int(targ.shape[1]))\n",
        "\n",
        "  variables = encoder.trainable_variables + decoder.trainable_variables\n",
        "\n",
        "  gradients = tape.gradient(loss, variables)\n",
        "\n",
        "  optimizer.apply_gradients(zip(gradients, variables))\n",
        "\n",
        "  return batch_loss"
      ],
      "execution_count": null,
      "outputs": []
    },
    {
      "cell_type": "code",
      "metadata": {
        "colab": {
          "base_uri": "https://localhost:8080/"
        },
        "id": "9Ak50-hR5rJx",
        "outputId": "729eef97-24b4-4dde-ba88-793f1f3b887c"
      },
      "source": [
        "import os\n",
        "checkpoint_dir = '/content/drive/MyDrive/DichMay/checkpoint_s2s2'\n",
        "checkpoint_prefix = os.path.join(checkpoint_dir, \"ckpt\")\n",
        "checkpoint = tf.train.Checkpoint(optimizer=optimizer,encoder=encoder,decoder=decoder)\n",
        "checkpoint.restore(tf.train.latest_checkpoint(checkpoint_dir))"
      ],
      "execution_count": null,
      "outputs": [
        {
          "data": {
            "text/plain": [
              "<tensorflow.python.training.tracking.util.InitializationOnlyStatus at 0x7fa842ed7bd0>"
            ]
          },
          "execution_count": 57,
          "metadata": {},
          "output_type": "execute_result"
        }
      ]
    },
    {
      "cell_type": "code",
      "metadata": {
        "colab": {
          "base_uri": "https://localhost:8080/"
        },
        "id": "zucheM8y2yrf",
        "outputId": "80088201-fcf2-4b9b-c8c9-1886b012ccc6"
      },
      "source": [
        "EPOCHS = 10\n",
        "losses = []\n",
        "acc = []\n",
        "\n",
        "for epoch in range(EPOCHS):\n",
        "  start = time.time()\n",
        "  \n",
        "  enc_hidden = encoder.initialize_hidden_state()\n",
        "  total_loss = 0\n",
        "\n",
        "  for (batch, (inp, targ)) in enumerate(dataset.take(steps_per_epoch)):\n",
        "    batch_loss = train_step(inp, targ, enc_hidden)\n",
        "    total_loss += batch_loss\n",
        "\n",
        "    if batch % 3000 == 0:\n",
        "      losses.append(batch_loss.numpy())\n",
        "      bleu, meteor, rouge1, rouge2 = score(20)\n",
        "      acc.append([bleu, meteor, rouge1, rouge2])\n",
        "      with open('/content/drive/MyDrive/DichMay/data/score_s2s2.pkl', 'ab') as f:\n",
        "        pickle.dump([acc, losses], f)\n",
        "      print ('Epoch {} Batch {} Loss {:.4f} Bleu {:.3f} Meteor {:.3f} Rouge1 {:.3f} Rouge2 {:.3f}'.format(\n",
        "          epoch + 1, batch, batch_loss.numpy(), bleu, meteor, rouge1, rouge2))\n",
        "  # saving (checkpoint) the model every 2 epochs\n",
        "  if (epoch+1) % 2 == 0:\n",
        "    checkpoint.save(file_prefix = checkpoint_prefix)\n",
        "\n",
        "  print('Epoch {} Loss {:.4f}'.format(epoch + 1,\n",
        "                                      total_loss / steps_per_epoch))\n",
        "  print('Time taken for 1 epoch {} sec\\n'.format(time.time() - start))"
      ],
      "execution_count": null,
      "outputs": [
        {
          "name": "stdout",
          "output_type": "stream",
          "text": [
            "Epoch 1 Batch 0 Loss 4.0914 Bleu 0.000 Meteor 0.001 Rouge1 0.002 Rouge2 0.002\n",
            "Epoch 1 Batch 3000 Loss 1.6157 Bleu 0.450 Meteor 0.211 Rouge1 0.459 Rouge2 0.364\n",
            "Epoch 1 Loss 2.0568\n",
            "Time taken for 1 epoch 383.64846444129944 sec\n",
            "\n",
            "Epoch 2 Batch 0 Loss 1.5785 Bleu 0.454 Meteor 0.293 Rouge1 0.487 Rouge2 0.396\n",
            "Epoch 2 Batch 3000 Loss 1.5244 Bleu 0.495 Meteor 0.295 Rouge1 0.576 Rouge2 0.480\n",
            "Epoch 2 Loss 1.4919\n",
            "Time taken for 1 epoch 340.3239595890045 sec\n",
            "\n",
            "Epoch 3 Batch 0 Loss 1.4653 Bleu 0.539 Meteor 0.351 Rouge1 0.589 Rouge2 0.496\n",
            "Epoch 3 Batch 3000 Loss 1.1489 Bleu 0.522 Meteor 0.378 Rouge1 0.605 Rouge2 0.518\n",
            "Epoch 3 Loss 1.2367\n",
            "Time taken for 1 epoch 338.4552710056305 sec\n",
            "\n",
            "Epoch 4 Batch 0 Loss 0.9159 Bleu 0.585 Meteor 0.424 Rouge1 0.630 Rouge2 0.527\n",
            "Epoch 4 Batch 3000 Loss 0.9405 Bleu 0.590 Meteor 0.417 Rouge1 0.653 Rouge2 0.575\n",
            "Epoch 4 Loss 1.0381\n",
            "Time taken for 1 epoch 339.71518301963806 sec\n",
            "\n",
            "Epoch 5 Batch 0 Loss 0.8890 Bleu 0.601 Meteor 0.444 Rouge1 0.672 Rouge2 0.612\n",
            "Epoch 5 Batch 3000 Loss 0.9616 Bleu 0.541 Meteor 0.377 Rouge1 0.630 Rouge2 0.567\n",
            "Epoch 5 Loss 0.9210\n",
            "Time taken for 1 epoch 337.7569420337677 sec\n",
            "\n",
            "Epoch 6 Batch 0 Loss 0.6441 Bleu 0.600 Meteor 0.500 Rouge1 0.689 Rouge2 0.608\n",
            "Epoch 6 Batch 3000 Loss 0.8427 Bleu 0.602 Meteor 0.489 Rouge1 0.702 Rouge2 0.638\n",
            "Epoch 6 Loss 0.8686\n",
            "Time taken for 1 epoch 339.62378907203674 sec\n",
            "\n",
            "Epoch 7 Batch 0 Loss 0.8529 Bleu 0.616 Meteor 0.502 Rouge1 0.712 Rouge2 0.635\n",
            "Epoch 7 Batch 3000 Loss 0.7616 Bleu 0.557 Meteor 0.486 Rouge1 0.618 Rouge2 0.564\n",
            "Epoch 7 Loss 0.7346\n",
            "Time taken for 1 epoch 338.61237144470215 sec\n",
            "\n",
            "Epoch 8 Batch 0 Loss 0.6462 Bleu 0.612 Meteor 0.526 Rouge1 0.711 Rouge2 0.641\n",
            "Epoch 8 Batch 3000 Loss 0.9326 Bleu 0.627 Meteor 0.508 Rouge1 0.659 Rouge2 0.627\n",
            "Epoch 8 Loss 0.7266\n",
            "Time taken for 1 epoch 339.06645369529724 sec\n",
            "\n",
            "Epoch 9 Batch 0 Loss 0.5864 Bleu 0.662 Meteor 0.558 Rouge1 0.737 Rouge2 0.683\n",
            "Epoch 9 Batch 3000 Loss 0.5799 Bleu 0.584 Meteor 0.511 Rouge1 0.698 Rouge2 0.637\n",
            "Epoch 9 Loss 0.6342\n",
            "Time taken for 1 epoch 337.6902017593384 sec\n",
            "\n",
            "Epoch 10 Batch 0 Loss 0.5699 Bleu 0.577 Meteor 0.488 Rouge1 0.694 Rouge2 0.619\n",
            "Epoch 10 Batch 3000 Loss 0.7253 Bleu 0.660 Meteor 0.530 Rouge1 0.757 Rouge2 0.688\n",
            "Epoch 10 Loss 0.6112\n",
            "Time taken for 1 epoch 339.91085720062256 sec\n",
            "\n"
          ]
        }
      ]
    },
    {
      "cell_type": "markdown",
      "metadata": {
        "id": "k1LDaldpW6bd"
      },
      "source": [
        "### Đánh giá mô hình S2S"
      ]
    },
    {
      "cell_type": "code",
      "metadata": {
        "colab": {
          "base_uri": "https://localhost:8080/",
          "height": 265
        },
        "id": "8i6Ip4VWVwUF",
        "outputId": "80e84c9a-90e2-434d-c2cb-831c93aabd6b"
      },
      "source": [
        "import matplotlib.pyplot as plt\n",
        "bleu = []\n",
        "metor =[]\n",
        "rouge1=[]\n",
        "rougeL=[]\n",
        "for i in range(0,20,2):\n",
        "  bleu.append(np.mean(np.array(acc)[i:i+2, 0]))\n",
        "  metor.append(np.mean(np.array(acc)[i:i+2, 1]))\n",
        "  rouge1.append(np.mean(np.array(acc)[i:i+2, 2]))\n",
        "  rougeL.append(np.mean(np.array(acc)[i:i+2, 3]))\n",
        "plt.plot(bleu, color='r')\n",
        "plt.plot(metor, color = 'b')\n",
        "plt.plot(rouge1, color = 'g')\n",
        "plt.plot(rougeL, color = 'black')\n",
        "plt.legend(['bleu', 'metor', 'rouge1', 'rougeL'])\n",
        "plt.show()"
      ],
      "execution_count": null,
      "outputs": [
        {
          "data": {
            "image/png": "[encoded data removed]",
            "text/plain": [
              "<Figure size 432x288 with 1 Axes>"
            ]
          },
          "metadata": {},
          "output_type": "display_data"
        }
      ]
    },
    {
      "cell_type": "code",
      "metadata": {
        "colab": {
          "base_uri": "https://localhost:8080/",
          "height": 265
        },
        "id": "CgI2Xcb-VwUF",
        "outputId": "d62e418e-e47b-42b4-d35d-8b3d593a41a5"
      },
      "source": [
        "plt.plot(losses)\n",
        "plt.show()"
      ],
      "execution_count": null,
      "outputs": [
        {
          "data": {
            "image/png": "[encoded data removed]",
            "text/plain": [
              "<Figure size 432x288 with 1 Axes>"
            ]
          },
          "metadata": {},
          "output_type": "display_data"
        }
      ]
    },
    {
      "cell_type": "markdown",
      "metadata": {
        "id": "fJGXJz7PXFoW"
      },
      "source": [
        "### Test với dữ liệu ngoài"
      ]
    },
    {
      "cell_type": "code",
      "metadata": {
        "id": "FG35HyBn9nUI"
      },
      "source": [
        "def standardize_data(row):\n",
        "    row = row.lower()\n",
        "    row = re.sub(r\"[\\,\\?]+$-\", \"\", row)\n",
        "    row = re.sub(\"(\\s)+\", r\"\\1\", row)\n",
        "    # Xóa tất cả dấu chấm, phẩy, chấm phẩy, chấm thang, ... trong câu\n",
        "    row = row.replace(\",\", \" \").replace(\".\", \" \") \\\n",
        "        .replace(\";\", \" \").replace(\"“\", \" \") \\\n",
        "        .replace(\":\", \" \").replace(\"”\", \" \") \\\n",
        "        .replace('\"', \" \").replace(\"'\", \" \") \\\n",
        "        .replace(\"!\", \" \").replace(\"=\", \" \") \\\n",
        "        .replace(\"(\", \" \").replace(\")\", \" \") \\\n",
        "        .replace(\"-\", \" \").replace(\"?\", \" \")\n",
        "    row = ''.join(i for i in row if not i.isdigit())\n",
        "    tokens=row.split()\n",
        "    return (\" \".join(tokens)).strip()"
      ],
      "execution_count": null,
      "outputs": []
    },
    {
      "cell_type": "code",
      "metadata": {
        "id": "_iFknrAwkgGv"
      },
      "source": [
        "def evaluate(input_document):\n",
        "    input_document = standardize_data(input_document)\n",
        "    input_document = [vocab_ipt.encode(input_document)]\n",
        "    input_document = pad_sequences(input_document, maxlen=encoder_maxlen, padding='post', truncating='post')\n",
        "    input_document = tf.convert_to_tensor(input_document)\n",
        "\n",
        "    result = []\n",
        "\n",
        "    hidden = [tf.zeros((1, ENC_HID_DIM))]\n",
        "    enc_out, enc_hidden = encoder(input_document, hidden)\n",
        "\n",
        "    dec_hidden = enc_hidden\n",
        "    dec_input = tf.expand_dims([1], 0)\n",
        "\n",
        "\n",
        "    \n",
        "    for i in range(decoder_maxlen):\n",
        "        predictions, dec_hidden, attention_weights = decoder(dec_input,\n",
        "                                                          dec_hidden,\n",
        "                                                          enc_out)\n",
        "\n",
        "        # storing the attention weights to plot later on\n",
        "        attention_weights = tf.reshape(attention_weights, (-1, ))\n",
        "        predicted_id = tf.argmax(predictions[0]).numpy()\n",
        "        result.append(predicted_id)\n",
        "        if predicted_id == 2:\n",
        "            return vocab_opt.decode([i for i in result]).replace('_',' ')\n",
        "\n",
        "        dec_input = tf.expand_dims([predicted_id], 0)\n",
        "    return  vocab_opt.decode([i for i in result]).replace('_',' ')"
      ],
      "execution_count": null,
      "outputs": []
    },
    {
      "cell_type": "code",
      "metadata": {
        "colab": {
          "base_uri": "https://localhost:8080/",
          "height": 52
        },
        "id": "beMQlSjrBebo",
        "outputId": "6c6945a2-f29c-422c-eebe-55ab32e0056a"
      },
      "source": [
        "evaluate('''Both of my physical and mental health become better after I play sports , so it can be considered as the best things to do in my free time. .''')"
      ],
      "execution_count": null,
      "outputs": [
        {
          "data": {
            "application/vnd.google.colaboratory.intrinsic+json": {
              "type": "string"
            },
            "text/plain": [
              "'cả hai và thể_chất tinh_thần và tinh_thần của bạn trở_thành tốt hơn khi tôi chơi thể_thao nên nó có_thể được coi như những điều tốt nhất để làm trong những lời khuyên để làm trong những lời khuyên để làm'"
            ]
          },
          "execution_count": 67,
          "metadata": {},
          "output_type": "execute_result"
        }
      ]
    },
    {
      "cell_type": "code",
      "metadata": {
        "id": "bNhlfeC46Mju"
      },
      "source": [
        ""
      ],
      "execution_count": null,
      "outputs": []
    }
  ]
}